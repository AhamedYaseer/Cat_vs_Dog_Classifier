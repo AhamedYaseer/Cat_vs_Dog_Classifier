{
  "cells": [
    {
      "cell_type": "markdown",
      "metadata": {
        "id": "YP-Gn9Ydn7_4"
      },
      "source": [
        "### Import Statement"
      ]
    },
    {
      "cell_type": "code",
      "execution_count": null,
      "metadata": {
        "id": "NivDZoGEn7_9"
      },
      "outputs": [],
      "source": [
        "import numpy as np\n",
        "import cv2\n",
        "import tensorflow as tf\n",
        "from tensorflow.keras import layers, models\n",
        "from tensorflow.keras.preprocessing import image_dataset_from_directory\n",
        "from tensorflow.keras.callbacks import EarlyStopping\n"
      ]
    },
    {
      "cell_type": "code",
      "execution_count": null,
      "metadata": {
        "colab": {
          "base_uri": "https://localhost:8080/"
        },
        "id": "HQvBwBno972D",
        "outputId": "31051776-9122-45aa-af66-9e3d4eb5ba46"
      },
      "outputs": [
        {
          "name": "stdout",
          "output_type": "stream",
          "text": [
            "Path to dataset files: /kaggle/input/dog-vs-cat-fastai\n"
          ]
        }
      ],
      "source": [
        "import kagglehub\n",
        "\n",
        "\n",
        "path = kagglehub.dataset_download(\"arpitjain007/dog-vs-cat-fastai\")\n",
        "print(\"Path to dataset files:\", path)\n"
      ]
    },
    {
      "cell_type": "code",
      "execution_count": null,
      "metadata": {
        "id": "UVd4jQRdn7__"
      },
      "outputs": [],
      "source": [
        "directory = r\"/kaggle/input/dog-vs-cat-fastai/dogscats/train\""
      ]
    },
    {
      "cell_type": "code",
      "execution_count": null,
      "metadata": {
        "colab": {
          "base_uri": "https://localhost:8080/"
        },
        "id": "jb7Y4qIyn8AA",
        "outputId": "16d45a04-4fee-4e29-c086-b091f3d2ad90"
      },
      "outputs": [
        {
          "name": "stdout",
          "output_type": "stream",
          "text": [
            "Found 23000 files belonging to 2 classes.\n",
            "Using 20700 files for training.\n",
            "Found 23000 files belonging to 2 classes.\n",
            "Using 2300 files for validation.\n"
          ]
        }
      ],
      "source": [
        "IMAGE_SIZE = (160, 160)\n",
        "BATCH_SIZE = 32\n",
        "\n",
        "train_data = image_dataset_from_directory(\n",
        "    directory,\n",
        "    validation_split=0.1,\n",
        "    subset=\"training\",\n",
        "    seed=42,\n",
        "    image_size=IMAGE_SIZE,\n",
        "    batch_size=BATCH_SIZE,\n",
        "    label_mode=\"int\"\n",
        ")\n",
        "\n",
        "val_data = image_dataset_from_directory(\n",
        "    directory,\n",
        "    validation_split=0.1,\n",
        "    subset=\"validation\",\n",
        "    seed=42,\n",
        "    image_size=IMAGE_SIZE,\n",
        "    batch_size=BATCH_SIZE,\n",
        "    label_mode=\"int\"\n",
        ")\n"
      ]
    },
    {
      "cell_type": "code",
      "execution_count": null,
      "metadata": {
        "id": "MZhYk5dngj7j"
      },
      "outputs": [],
      "source": [
        "from tensorflow.keras import layers\n",
        "\n",
        "normalization_layer = layers.Rescaling(1./255)\n",
        "\n",
        "train_data = train_data.map(lambda x, y: (normalization_layer(x), y))\n",
        "val_data = val_data.map(lambda x, y: (normalization_layer(x), y))\n",
        "\n"
      ]
    },
    {
      "cell_type": "code",
      "execution_count": null,
      "metadata": {
        "id": "u_y6PQiyms5q"
      },
      "outputs": [],
      "source": [
        "from tensorflow.keras import models\n",
        "\n",
        "data_augmentation = models.Sequential([\n",
        "    layers.RandomFlip(\"horizontal\"),\n",
        "    layers.RandomRotation(0.1),\n",
        "    layers.RandomZoom(0.1)\n",
        "])\n",
        "train_data = train_data.map(lambda x, y: (data_augmentation(x, training=True), y))\n",
        "\n"
      ]
    },
    {
      "cell_type": "code",
      "execution_count": null,
      "metadata": {
        "colab": {
          "base_uri": "https://localhost:8080/"
        },
        "id": "o-_BLZdsAjPw",
        "outputId": "1d416e46-7c68-4f98-b69a-3f04c012d895"
      },
      "outputs": [
        {
          "name": "stdout",
          "output_type": "stream",
          "text": [
            "Downloading data from https://storage.googleapis.com/tensorflow/keras-applications/mobilenet_v2/mobilenet_v2_weights_tf_dim_ordering_tf_kernels_1.0_160_no_top.h5\n",
            "\u001b[1m9406464/9406464\u001b[0m \u001b[32m━━━━━━━━━━━━━━━━━━━━\u001b[0m\u001b[37m\u001b[0m \u001b[1m0s\u001b[0m 0us/step\n"
          ]
        }
      ],
      "source": [
        "from tensorflow.keras import applications\n",
        "\n",
        "base_model = applications.MobileNetV2(\n",
        "    input_shape=IMAGE_SIZE + (3,),\n",
        "    include_top=False,\n",
        "    weights='imagenet'\n",
        ")\n",
        "base_model.trainable = False\n",
        "\n"
      ]
    },
    {
      "cell_type": "code",
      "execution_count": null,
      "metadata": {
        "id": "YaZlHNjKCTb7"
      },
      "outputs": [],
      "source": [
        "model = models.Sequential([\n",
        "    base_model,\n",
        "    layers.GlobalAveragePooling2D(), #mean of entire feature map (similar to flatten)\n",
        "    layers.Dense(128, activation='relu'),\n",
        "    layers.Dropout(0.3),\n",
        "    layers.Dense(2, activation='softmax')  # 2 classes\n",
        "])\n"
      ]
    },
    {
      "cell_type": "code",
      "execution_count": null,
      "metadata": {
        "id": "hJDgYDwpc9Hl"
      },
      "outputs": [],
      "source": [
        "model.compile(\n",
        "    optimizer=tf.keras.optimizers.Adam(learning_rate=0.0005),\n",
        "    loss='sparse_categorical_crossentropy',\n",
        "    metrics=['accuracy']\n",
        ")\n"
      ]
    },
    {
      "cell_type": "code",
      "execution_count": null,
      "metadata": {
        "colab": {
          "background_save": true,
          "base_uri": "https://localhost:8080/"
        },
        "id": "12ucdQr-c-oz",
        "outputId": "5f74b6e4-2a2f-48c6-f87e-4328703c95d1"
      },
      "outputs": [
        {
          "name": "stdout",
          "output_type": "stream",
          "text": [
            "Epoch 1/10\n",
            "\u001b[1m647/647\u001b[0m \u001b[32m━━━━━━━━━━━━━━━━━━━━\u001b[0m\u001b[37m\u001b[0m \u001b[1m157s\u001b[0m 226ms/step - accuracy: 0.9211 - loss: 0.1930 - val_accuracy: 0.9791 - val_loss: 0.0582\n",
            "Epoch 2/10\n",
            "\u001b[1m647/647\u001b[0m \u001b[32m━━━━━━━━━━━━━━━━━━━━\u001b[0m\u001b[37m\u001b[0m \u001b[1m182s\u001b[0m 205ms/step - accuracy: 0.9515 - loss: 0.1150 - val_accuracy: 0.9809 - val_loss: 0.0549\n",
            "Epoch 3/10\n",
            "\u001b[1m647/647\u001b[0m \u001b[32m━━━━━━━━━━━━━━━━━━━━\u001b[0m\u001b[37m\u001b[0m \u001b[1m134s\u001b[0m 207ms/step - accuracy: 0.9584 - loss: 0.1056 - val_accuracy: 0.9804 - val_loss: 0.0508\n",
            "Epoch 4/10\n",
            "\u001b[1m647/647\u001b[0m \u001b[32m━━━━━━━━━━━━━━━━━━━━\u001b[0m\u001b[37m\u001b[0m \u001b[1m140s\u001b[0m 204ms/step - accuracy: 0.9582 - loss: 0.1001 - val_accuracy: 0.9787 - val_loss: 0.0531\n",
            "Epoch 5/10\n",
            "\u001b[1m647/647\u001b[0m \u001b[32m━━━━━━━━━━━━━━━━━━━━\u001b[0m\u001b[37m\u001b[0m \u001b[1m132s\u001b[0m 203ms/step - accuracy: 0.9614 - loss: 0.0989 - val_accuracy: 0.9770 - val_loss: 0.0593\n"
          ]
        },
        {
          "data": {
            "text/plain": [
              "<keras.src.callbacks.history.History at 0x7f9963aef290>"
            ]
          },
          "execution_count": 21,
          "metadata": {},
          "output_type": "execute_result"
        }
      ],
      "source": [
        "callback = EarlyStopping(monitor='val_accuracy', patience=3, restore_best_weights=True)\n",
        "model.fit(train_data, validation_data=val_data, epochs=10, callbacks=[callback])\n"
      ]
    },
    {
      "cell_type": "code",
      "execution_count": null,
      "metadata": {
        "colab": {
          "base_uri": "https://localhost:8080/"
        },
        "id": "vSH8e2Dbl4vn",
        "outputId": "2827043e-f140-4d9f-a95e-b6e288de9d8f"
      },
      "outputs": [
        {
          "name": "stderr",
          "output_type": "stream",
          "text": [
            "WARNING:absl:You are saving your model as an HDF5 file via `model.save()` or `keras.saving.save_model(model)`. This file format is considered legacy. We recommend using instead the native Keras format, e.g. `model.save('my_model.keras')` or `keras.saving.save_model(model, 'my_model.keras')`. \n"
          ]
        }
      ],
      "source": [
        "model.save(\"Cat_vs_Dog.h5\")"
      ]
    }
  ],
  "metadata": {
    "accelerator": "GPU",
    "colab": {
      "gpuType": "T4",
      "provenance": []
    },
    "kaggle": {
      "accelerator": "nvidiaTeslaT4",
      "dataSources": [
        {
          "datasetId": 116680,
          "sourceId": 279337,
          "sourceType": "datasetVersion"
        }
      ],
      "dockerImageVersionId": 30786,
      "isGpuEnabled": true,
      "isInternetEnabled": true,
      "language": "python",
      "sourceType": "notebook"
    },
    "kernelspec": {
      "display_name": "Python 3",
      "name": "python3"
    },
    "language_info": {
      "codemirror_mode": {
        "name": "ipython",
        "version": 3
      },
      "file_extension": ".py",
      "mimetype": "text/x-python",
      "name": "python",
      "nbconvert_exporter": "python",
      "pygments_lexer": "ipython3",
      "version": "3.10.14"
    }
  },
  "nbformat": 4,
  "nbformat_minor": 0
}